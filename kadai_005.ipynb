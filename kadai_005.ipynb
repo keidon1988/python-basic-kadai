{
  "nbformat": 4,
  "nbformat_minor": 0,
  "metadata": {
    "colab": {
      "provenance": []
    },
    "kernelspec": {
      "name": "python3",
      "display_name": "Python 3"
    },
    "language_info": {
      "name": "python"
    }
  },
  "cells": [
    {
      "cell_type": "markdown",
      "source": [
        "# 新しいセクション変数を使って四則演算しよう\n",
        "above_centimeter = \"10cm\"\n",
        "under_centimeter = \"20cm\"\n",
        "height_centimeter = \"5cm\"\n",
        "\n",
        "print((above_centimeter + under_centimeter) * height_centimeter % 2)"
      ],
      "metadata": {
        "id": "OIqNwo9dXvun"
      }
    },
    {
      "cell_type": "code",
      "source": [
        "# 上辺、下辺、高さを定義\n",
        "upper_base = 10\n",
        "lower_base = 20\n",
        "height = 5\n",
        "\n",
        "# 台形の面積を計算\n",
        "trapezoid_area = (upper_base + lower_base) * height / 2\n",
        "\n",
        "# 結果を出力\n",
        "print(f\"{trapezoid_area}cm²\")\n"
      ],
      "metadata": {
        "colab": {
          "base_uri": "https://localhost:8080/"
        },
        "id": "ZWPDibBJafBQ",
        "outputId": "36eecfea-a05b-4e91-ab4e-cf3ff579f018"
      },
      "execution_count": 11,
      "outputs": [
        {
          "output_type": "stream",
          "name": "stdout",
          "text": [
            "75.0cm²\n"
          ]
        }
      ]
    }
  ]
}