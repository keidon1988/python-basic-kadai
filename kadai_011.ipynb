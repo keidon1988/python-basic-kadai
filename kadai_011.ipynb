{
  "nbformat": 4,
  "nbformat_minor": 0,
  "metadata": {
    "colab": {
      "provenance": [],
      "toc_visible": true
    },
    "kernelspec": {
      "name": "python3",
      "display_name": "Python 3"
    },
    "language_info": {
      "name": "python"
    }
  },
  "cells": [
    {
      "cell_type": "code",
      "source": [
        "planet = {1:\"水\",2:\"金\",3:\"地\",4:\"火\",5:\"木\",6:\"土\",7:\"天\",8:\"海\",9:\"冥\"}\n",
        "\n",
        "for key,value in planet.items():\n",
        "    print(key,value)\n",
        "\n",
        "planet = {10:\"水\",11:\"金\",12:\"地\",13:\"火\",14:\"木\",15:\"土\",16:\"天\",17:\"海\",18:\"冥\"}\n",
        "\n",
        "key = 10\n",
        "\n",
        "while key <= 18:\n",
        "    print(f\"{key} {planet[key]}\")\n",
        "    key += 1"
      ],
      "metadata": {
        "colab": {
          "base_uri": "https://localhost:8080/"
        },
        "id": "Mp78ZE8tkVBk",
        "outputId": "5437b24b-06d1-4fdc-9242-a03897b0bfd6"
      },
      "execution_count": 18,
      "outputs": [
        {
          "output_type": "stream",
          "name": "stdout",
          "text": [
            "1 水\n",
            "2 金\n",
            "3 地\n",
            "4 火\n",
            "5 木\n",
            "6 土\n",
            "7 天\n",
            "8 海\n",
            "9 冥\n",
            "10 水\n",
            "11 金\n",
            "12 地\n",
            "13 火\n",
            "14 木\n",
            "15 土\n",
            "16 天\n",
            "17 海\n",
            "18 冥\n"
          ]
        }
      ]
    }
  ]
}