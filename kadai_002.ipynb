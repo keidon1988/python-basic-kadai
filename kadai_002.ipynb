import pandas as pd

# 元データの作成
data = {
    '日付': ['2023-05-17', '2023-05-18', '2023-05-19', '2023-05-20', '2023-05-21'],
    '社員名': ['山田', '佐藤', '鈴木', '田中', '高橋'],
    '売上': [100, 200, 150, 300, 250],
    '部門': ['メーカー', '代理店', 'メーカー', '商社', '代理店']
}

# データフレームの作成
df = pd.DataFrame(data)

# 平均売上の算出と「平均売上」列の追加
average_sales = df['売上'].mean()
df['平均売上'] = average_sales

# 業績ランクを設定する関数の定義
def performance(sales, average):
    if sales >= average + 50:
        return 'A'
    elif sales >= average:
        return 'B'
    else:
        return 'C'

# 「業績ランク」列の追加
df['業績ランク'] = df['売上'].apply(lambda x: performance(x, average_sales))

# Excelファイルに書き出し
df.to_excel('業績.xlsx', index=False)
