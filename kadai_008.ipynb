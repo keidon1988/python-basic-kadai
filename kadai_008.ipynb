{
  "nbformat": 4,
  "nbformat_minor": 0,
  "metadata": {
    "colab": {
      "provenance": [],
      "toc_visible": true
    },
    "kernelspec": {
      "name": "python3",
      "display_name": "Python 3"
    },
    "language_info": {
      "name": "python"
    }
  },
  "cells": [
    {
      "cell_type": "code",
      "source": [
        "\n",
        "import random\n",
        "\n",
        "var = random.randint(0, 30)\n",
        "\n",
        "if var == 3 or 6 or 9 or 12 or 15 or 18 or 21 or 24 or 27 or 30 :\n",
        "    print(\"Fizz\")\n",
        "\n",
        "elif var == 5 or 10 or 15 or 20 or 25 or 30 :\n",
        "    print(\"Buzz\")\n",
        "\n",
        "elif var == 15 or 30 :\n",
        "    print(\"FizzBuzz\")\n",
        "\n",
        "else :\n",
        "    print(var)\n",
        ""
      ],
      "metadata": {
        "colab": {
          "base_uri": "https://localhost:8080/"
        },
        "id": "6m6GGUymlkNL",
        "outputId": "85c82565-ee92-4728-c7db-32025ff087e4"
      },
      "execution_count": 61,
      "outputs": [
        {
          "output_type": "stream",
          "name": "stdout",
          "text": [
            "Fizz\n"
          ]
        }
      ]
    }
  ]
}