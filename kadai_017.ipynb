{
  "nbformat": 4,
  "nbformat_minor": 0,
  "metadata": {
    "colab": {
      "provenance": [],
      "toc_visible": true
    },
    "kernelspec": {
      "name": "python3",
      "display_name": "Python 3"
    },
    "language_info": {
      "name": "python"
    }
  },
  "cells": [
    {
      "cell_type": "code",
      "source": [
        "# Humanクラスを定義\n",
        "class Human:\n",
        "    def __init__(self, name, age):\n",
        "        self.name = name\n",
        "        self.age = age\n",
        "\n",
        "    # ageの値に応じて大人かどうかをチェックするメソッド\n",
        "    def check_adult(self):\n",
        "        if self.age >= 20:\n",
        "            print(f\"{self.name}さんは大人です。\")\n",
        "        else:\n",
        "            print(f\"{self.name}さんは大人ではありません。\")\n",
        "\n",
        "# Humanクラスのインスタンスを生成し、リストに追加\n",
        "people = [\n",
        "    Human(\"A\", 25),\n",
        "    Human(\"B\", 17),\n",
        "    Human(\"C\", 30),\n",
        "    Human(\"D\", 15)\n",
        "]\n",
        "\n",
        "# リストの要素分だけcheck_adultメソッドを呼び出し\n",
        "for person in people:\n",
        "    person.check_adult()\n"
      ],
      "metadata": {
        "colab": {
          "base_uri": "https://localhost:8080/"
        },
        "id": "XSSJc_CnF4ai",
        "outputId": "1d90e8d3-c224-4bf6-e4da-f9ac8f63cf6a"
      },
      "execution_count": 4,
      "outputs": [
        {
          "output_type": "stream",
          "name": "stdout",
          "text": [
            "Aさんは大人です。\n",
            "Bさんは大人ではありません。\n",
            "Cさんは大人です。\n",
            "Dさんは大人ではありません。\n"
          ]
        }
      ]
    }
  ]
}