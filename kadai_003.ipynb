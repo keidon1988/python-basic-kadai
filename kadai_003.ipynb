{
  "nbformat": 4,
  "nbformat_minor": 0,
  "metadata": {
    "colab": {
      "provenance": [],
      "toc_visible": true
    },
    "kernelspec": {
      "name": "python3",
      "display_name": "Python 3"
    },
    "language_info": {
      "name": "python"
    }
  },
  "cells": [
    {
      "cell_type": "markdown",
      "source": [],
      "metadata": {
        "id": "C4z00DDQ1hKi"
      }
    },
    {
      "cell_type": "code",
      "source": [
        "# 必要なライブラリをインストール\n",
        "!pip install pandas openpyxl\n",
        "\n",
        "# 必要なモジュールをインポート\n",
        "import pandas as pd\n",
        "from openpyxl import load_workbook\n",
        "from openpyxl.styles import PatternFill\n",
        "\n",
        "# Step3: データの連結と集計\n",
        "# 2022年と2023年のExcelファイルを読み込む\n",
        "data_2022 = pd.read_excel(\"2022_年間売上表.xlsx\")\n",
        "data_2023 = pd.read_excel(\"2023_年間売上表.xlsx\")\n",
        "\n",
        "# データを連結\n",
        "combined_data = pd.concat([data_2022, data_2023], ignore_index=True)\n",
        "\n",
        "# 商品と売上年ごとにグループ化し、金額の合計を計算\n",
        "grouped_data = combined_data.groupby([\"商品\", \"売上年\"], as_index=False)[\"金額（千円）\"].sum()\n",
        "\n",
        "# Step4: 売上集計表の作成とヘッダーの書式変更\n",
        "# 集計データを新しいExcelファイルに書き込む\n",
        "output_file = \"売上集計表.xlsx\"\n",
        "grouped_data.to_excel(output_file, index=False, sheet_name=\"売上集計表\")\n",
        "\n",
        "# ヘッダーの書式変更\n",
        "# openpyxlを使用してヘッダーの背景色を変更\n",
        "wb = load_workbook(output_file)\n",
        "ws = wb.active\n",
        "\n",
        "# ヘッダー部分を薄いグレー（#F2F2F2）に設定\n",
        "header_fill = PatternFill(start_color=\"F2F2F2\", end_color=\"F2F2F2\", fill_type=\"solid\")\n",
        "for cell in ws[1]:\n",
        "    cell.fill = header_fill\n",
        "\n",
        "# ファイルを保存\n",
        "wb.save(output_file)\n",
        "\n",
        "print(f\"{output_file} を作成しました！\")\n"
      ],
      "metadata": {
        "id": "vwBIeBdjbs-4"
      },
      "execution_count": null,
      "outputs": []
    }
  ]
}