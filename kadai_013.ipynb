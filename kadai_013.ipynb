{
  "nbformat": 4,
  "nbformat_minor": 0,
  "metadata": {
    "colab": {
      "provenance": [],
      "toc_visible": true
    },
    "kernelspec": {
      "name": "python3",
      "display_name": "Python 3"
    },
    "language_info": {
      "name": "python"
    }
  },
  "cells": [
    {
      "cell_type": "code",
      "source": [
        "def calculate_total_with_tax(price, tax_rate):\n",
        "    total = price + (price * tax_rate)\n",
        "    return total\n",
        "\n",
        "price = 1000\n",
        "tax_rate = 0.1\n",
        "\n",
        "total_price = calculate_total_with_tax(price, tax_rate)\n",
        "print(f\"消費税を含む合計金額: {total_price}\")"
      ],
      "metadata": {
        "colab": {
          "base_uri": "https://localhost:8080/"
        },
        "id": "7ZtpmH_1w97E",
        "outputId": "a8696192-9c5a-42e2-870b-b088e87010aa"
      },
      "execution_count": 14,
      "outputs": [
        {
          "output_type": "stream",
          "name": "stdout",
          "text": [
            "消費税を含む合計金額: 1100.0\n"
          ]
        }
      ]
    }
  ]
}