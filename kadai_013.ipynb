{
  "nbformat": 4,
  "nbformat_minor": 0,
  "metadata": {
    "colab": {
      "provenance": [],
      "toc_visible": true
    },
    "kernelspec": {
      "name": "python3",
      "display_name": "Python 3"
    },
    "language_info": {
      "name": "python"
    }
  },
  "cells": [
    {
      "cell_type": "code",
      "source": [
        "def add_two_arguments(price, tax):\n",
        "\n",
        "    total = price * tax\n",
        "\n",
        "    print(f\"{total}円\")\n",
        "\n",
        "add_two_arguments(1200, 1.1)"
      ],
      "metadata": {
        "colab": {
          "base_uri": "https://localhost:8080/"
        },
        "id": "scSI9l4R3vuB",
        "outputId": "0a59f8e7-42b7-4140-fe85-50ec3cbd9e23"
      },
      "execution_count": 24,
      "outputs": [
        {
          "output_type": "stream",
          "name": "stdout",
          "text": [
            "1320.0円\n"
          ]
        }
      ]
    }
  ]
}