{
  "nbformat": 4,
  "nbformat_minor": 0,
  "metadata": {
    "colab": {
      "provenance": [],
      "toc_visible": true
    },
    "kernelspec": {
      "name": "python3",
      "display_name": "Python 3"
    },
    "language_info": {
      "name": "python"
    }
  },
  "cells": [
    {
      "cell_type": "markdown",
      "source": [],
      "metadata": {
        "id": "C4z00DDQ1hKi"
      }
    },
    {
      "cell_type": "code",
      "source": [
        "# 必要なライブラリをインストール\n",
        "!pip install openpyxl\n",
        "\n",
        "# 必要なモジュールをインポート\n",
        "from openpyxl import Workbook\n",
        "from openpyxl.styles import Alignment, Font\n",
        "from datetime import datetime\n",
        "\n",
        "# 新規Excelファイルを作成\n",
        "wb = Workbook()\n",
        "ws = wb.active\n",
        "\n",
        "# シート名を設定\n",
        "ws.title = \"請求書\"\n",
        "\n",
        "# 固定データ\n",
        "company_name = \"株式会社ABC\"\n",
        "address = \"〒101-0022 東京都千代田区神田練塀町300\"\n",
        "contact = \"TEL:03-1234-5678 FAX:03-1234-5678\"\n",
        "person_in_charge = \"担当者名:鈴木一郎 様\"\n",
        "\n",
        "# 現在の日付を取得\n",
        "current_date = datetime.now().strftime(\"%Y/%m/%d\")\n",
        "\n",
        "# データをセルに書き込む\n",
        "ws[\"A1\"] = \"請求書\"\n",
        "ws[\"A3\"] = company_name\n",
        "ws[\"A4\"] = address\n",
        "ws[\"A5\"] = contact\n",
        "ws[\"A6\"] = person_in_charge\n",
        "ws[\"A8\"] = f\"日付: {current_date}\"\n",
        "\n",
        "# スタイル設定\n",
        "ws[\"A1\"].font = Font(size=16, bold=True)  # タイトルを大きく太字\n",
        "ws[\"A1\"].alignment = Alignment(horizontal=\"center\")  # 中央揃え\n",
        "\n",
        "# A1を結合してタイトルを中央配置\n",
        "ws.merge_cells(\"A1:D1\")\n",
        "\n",
        "# 保存\n",
        "file_name = f\"請求書_{current_date.replace('/', '')}.xlsx\"\n",
        "wb.save(file_name)\n",
        "\n",
        "print(f\"{file_name} を作成しました！\")\n"
      ],
      "metadata": {
        "id": "hatonC_H6zfs"
      },
      "execution_count": null,
      "outputs": []
    }
  ]
}